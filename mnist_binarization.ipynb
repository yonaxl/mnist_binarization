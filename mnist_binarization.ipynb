{
 "cells": [
  {
   "cell_type": "code",
   "execution_count": 2,
   "metadata": {},
   "outputs": [],
   "source": [
    "import tensorflow as tf\n",
    "import numpy as np\n"
   ]
  },
  {
   "cell_type": "code",
   "execution_count": 4,
   "metadata": {},
   "outputs": [],
   "source": [
    "(x_train, y_train), (x_test, y_test) = tf.keras.datasets.mnist.load_data()\n",
    "x_train = tf.keras.utils.normalize(x_train, axis=1)\n",
    "x_test = tf.keras.utils.normalize(x_test, axis=1)\n"
   ]
  },
  {
   "cell_type": "code",
   "execution_count": 6,
   "metadata": {},
   "outputs": [],
   "source": [
    "clf = tf.keras.Sequential()\n",
    "clf.add(tf.keras.layers.Flatten())\n",
    "#clf.add(tf.keras.Input(shape=(28,28)))\n",
    "\n",
    "clf.add(tf.keras.layers.Dense(128, activation='relu'))\n",
    "clf.add(tf.keras.layers.Dense(128, activation='relu'))\n",
    "clf.add(tf.keras.layers.Dense(10, activation='sigmoid'))\n",
    "clf.compile(optimizer='adam',\n",
    "        loss='sparse_categorical_crossentropy',\n",
    "        metrics=['accuracy'])"
   ]
  },
  {
   "cell_type": "code",
   "execution_count": 4,
   "metadata": {},
   "outputs": [
    {
     "name": "stdout",
     "output_type": "stream",
     "text": [
      "Epoch 1/3\n"
     ]
    },
    {
     "name": "stderr",
     "output_type": "stream",
     "text": [
      "2023-11-08 13:11:21.483302: W tensorflow/tsl/platform/profile_utils/cpu_utils.cc:128] Failed to get CPU frequency: 0 Hz\n"
     ]
    },
    {
     "name": "stdout",
     "output_type": "stream",
     "text": [
      "1875/1875 [==============================] - 2s 723us/step - loss: 0.2675 - accuracy: 0.9212\n",
      "Epoch 2/3\n",
      "1875/1875 [==============================] - 1s 713us/step - loss: 0.1120 - accuracy: 0.9653\n",
      "Epoch 3/3\n",
      "1875/1875 [==============================] - 1s 723us/step - loss: 0.0764 - accuracy: 0.9761\n",
      "313/313 [==============================] - 0s 426us/step - loss: 0.1054 - accuracy: 0.9653\n"
     ]
    },
    {
     "data": {
      "text/plain": [
       "[0.10537015646696091, 0.9653000235557556]"
      ]
     },
     "execution_count": 4,
     "metadata": {},
     "output_type": "execute_result"
    }
   ],
   "source": [
    "clf.fit(x=x_train, y=y_train, epochs=3)\n",
    "clf.evaluate(x_test, y_test)"
   ]
  },
  {
   "cell_type": "markdown",
   "metadata": {},
   "source": [
    "The following section is where I performed threhsolding based on a value to the features and get binary values instead. The general idea is to remove some granularity level and potential noise by binarizing pixels above a certain threshold value only. We will experiment with classifier trained on the same binarized training set and the one trained without binarization."
   ]
  },
  {
   "cell_type": "code",
   "execution_count": 7,
   "metadata": {},
   "outputs": [
    {
     "name": "stdout",
     "output_type": "stream",
     "text": [
      "iteration with thresh value = 0\n",
      "Epoch 1/3\n",
      "1875/1875 [==============================] - 2s 730us/step - loss: 0.2460 - accuracy: 0.9256\n",
      "Epoch 2/3\n",
      "1875/1875 [==============================] - 1s 730us/step - loss: 0.1166 - accuracy: 0.9634\n",
      "Epoch 3/3\n",
      "1875/1875 [==============================] - 1s 723us/step - loss: 0.0828 - accuracy: 0.9741\n",
      "Model Trained without thresholding\n",
      "313/313 [==============================] - 0s 439us/step - loss: 2.3852 - accuracy: 0.0834\n",
      "Model Trained with thresholding\n",
      "313/313 [==============================] - 0s 467us/step - loss: 0.0967 - accuracy: 0.9684\n",
      "iteration with thresh value = 0.25\n",
      "Epoch 1/3\n",
      "1875/1875 [==============================] - 2s 760us/step - loss: 0.2544 - accuracy: 0.9240\n",
      "Epoch 2/3\n",
      "1875/1875 [==============================] - 1s 732us/step - loss: 0.1042 - accuracy: 0.9681\n",
      "Epoch 3/3\n",
      "1875/1875 [==============================] - 1s 744us/step - loss: 0.0693 - accuracy: 0.9771\n",
      "Model Trained without thresholding\n",
      "313/313 [==============================] - 0s 433us/step - loss: 2.3549 - accuracy: 0.0884\n",
      "Model Trained with thresholding\n",
      "313/313 [==============================] - 0s 437us/step - loss: 0.1023 - accuracy: 0.9703\n",
      "iteration with thresh value = 0.4\n",
      "Epoch 1/3\n",
      "1875/1875 [==============================] - 2s 731us/step - loss: 0.5945 - accuracy: 0.8128\n",
      "Epoch 2/3\n",
      "1875/1875 [==============================] - 1s 745us/step - loss: 0.3730 - accuracy: 0.8794\n",
      "Epoch 3/3\n",
      "1875/1875 [==============================] - 1s 734us/step - loss: 0.3005 - accuracy: 0.9014\n",
      "Model Trained without thresholding\n",
      "313/313 [==============================] - 0s 434us/step - loss: 2.3188 - accuracy: 0.0950\n",
      "Model Trained with thresholding\n",
      "313/313 [==============================] - 0s 432us/step - loss: 0.3988 - accuracy: 0.8699\n",
      "iteration with thresh value = 0.5\n",
      "Epoch 1/3\n",
      "1875/1875 [==============================] - 1s 725us/step - loss: 0.9463 - accuracy: 0.6902\n",
      "Epoch 2/3\n",
      "1875/1875 [==============================] - 1s 738us/step - loss: 0.7229 - accuracy: 0.7570\n",
      "Epoch 3/3\n",
      "1875/1875 [==============================] - 1s 729us/step - loss: 0.6465 - accuracy: 0.7797\n",
      "Model Trained without thresholding\n",
      "313/313 [==============================] - 0s 471us/step - loss: 2.3041 - accuracy: 0.1132\n",
      "Model Trained with thresholding\n",
      "313/313 [==============================] - 0s 469us/step - loss: 0.7516 - accuracy: 0.7504\n",
      "iteration with thresh value = 0.6\n",
      "Epoch 1/3\n",
      "1875/1875 [==============================] - 2s 783us/step - loss: 1.2563 - accuracy: 0.5855\n",
      "Epoch 2/3\n",
      "1875/1875 [==============================] - 1s 754us/step - loss: 1.0663 - accuracy: 0.6403\n",
      "Epoch 3/3\n",
      "1875/1875 [==============================] - 1s 769us/step - loss: 1.0062 - accuracy: 0.6558\n",
      "Model Trained without thresholding\n",
      "313/313 [==============================] - 0s 433us/step - loss: 2.3022 - accuracy: 0.1341\n",
      "Model Trained with thresholding\n",
      "313/313 [==============================] - 0s 432us/step - loss: 1.0833 - accuracy: 0.6381\n",
      "iteration with thresh value = 0.75\n",
      "Epoch 1/3\n",
      "1875/1875 [==============================] - 1s 724us/step - loss: 1.7241 - accuracy: 0.4021\n",
      "Epoch 2/3\n",
      "1875/1875 [==============================] - 1s 713us/step - loss: 1.5885 - accuracy: 0.4398\n",
      "Epoch 3/3\n",
      "1875/1875 [==============================] - 1s 720us/step - loss: 1.5557 - accuracy: 0.4485\n",
      "Model Trained without thresholding\n",
      "313/313 [==============================] - 0s 435us/step - loss: 2.3032 - accuracy: 0.1431\n",
      "Model Trained with thresholding\n",
      "313/313 [==============================] - 0s 436us/step - loss: 1.6080 - accuracy: 0.4404\n"
     ]
    }
   ],
   "source": [
    "t_list = [0, 0.25, 0.4, 0.5, 0.6, 0.75]\n",
    "for thresh in t_list:\n",
    "    print(\"iteration with thresh value = \" + str(thresh))\n",
    "    clf2 = tf.keras.Sequential()\n",
    "    clf2.add(tf.keras.layers.Flatten())\n",
    "\n",
    "    clf2.add(tf.keras.layers.Dense(128, activation='relu'))\n",
    "    clf2.add(tf.keras.layers.Dense(128, activation='relu'))\n",
    "    clf2.add(tf.keras.layers.Dense(10, activation='sigmoid'))\n",
    "    clf2.compile(optimizer='adam',\n",
    "            loss='sparse_categorical_crossentropy',\n",
    "            metrics=['accuracy'])\n",
    "    x_test2 = np.array((x_test > thresh).astype(int))\n",
    "    x_train2 = np.array((x_train > thresh).astype(int))\n",
    "    clf2.fit(x=x_train2, y=y_train, epochs=3)\n",
    "    print(\"Model Trained without thresholding\")\n",
    "    clf.evaluate(x_test2, y_test)\n",
    "    print(\"Model Trained with thresholding\")\n",
    "    clf2.evaluate(x_test2, y_test)"
   ]
  },
  {
   "cell_type": "code",
   "execution_count": null,
   "metadata": {},
   "outputs": [],
   "source": []
  }
 ],
 "metadata": {
  "kernelspec": {
   "display_name": "base",
   "language": "python",
   "name": "python3"
  },
  "language_info": {
   "codemirror_mode": {
    "name": "ipython",
    "version": 3
   },
   "file_extension": ".py",
   "mimetype": "text/x-python",
   "name": "python",
   "nbconvert_exporter": "python",
   "pygments_lexer": "ipython3",
   "version": "3.11.5"
  }
 },
 "nbformat": 4,
 "nbformat_minor": 2
}
