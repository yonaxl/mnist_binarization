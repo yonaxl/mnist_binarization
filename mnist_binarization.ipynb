{
 "cells": [
  {
   "cell_type": "code",
   "execution_count": 1,
   "metadata": {},
   "outputs": [],
   "source": [
    "import tensorflow as tf\n",
    "import numpy as np\n"
   ]
  },
  {
   "cell_type": "code",
   "execution_count": 2,
   "metadata": {},
   "outputs": [],
   "source": [
    "(x_train, y_train), (x_test, y_test) = tf.keras.datasets.mnist.load_data()\n",
    "x_train = tf.keras.utils.normalize(x_train, axis=1)\n",
    "x_test = tf.keras.utils.normalize(x_test, axis=1)\n"
   ]
  },
  {
   "cell_type": "code",
   "execution_count": 3,
   "metadata": {},
   "outputs": [],
   "source": [
    "clf = tf.keras.Sequential()\n",
    "clf.add(tf.keras.layers.Flatten())\n",
    "#clf.add(tf.keras.Input(shape=(28,28)))\n",
    "\n",
    "clf.add(tf.keras.layers.Dense(128, activation='relu'))\n",
    "clf.add(tf.keras.layers.Dense(128, activation='relu'))\n",
    "clf.add(tf.keras.layers.Dense(10, activation='sigmoid'))\n",
    "clf.compile(optimizer='adam',\n",
    "        loss='sparse_categorical_crossentropy',\n",
    "        metrics=['accuracy'])"
   ]
  },
  {
   "cell_type": "code",
   "execution_count": 4,
   "metadata": {},
   "outputs": [
    {
     "name": "stdout",
     "output_type": "stream",
     "text": [
      "Epoch 1/3\n"
     ]
    },
    {
     "name": "stderr",
     "output_type": "stream",
     "text": [
      "2023-11-08 13:11:21.483302: W tensorflow/tsl/platform/profile_utils/cpu_utils.cc:128] Failed to get CPU frequency: 0 Hz\n"
     ]
    },
    {
     "name": "stdout",
     "output_type": "stream",
     "text": [
      "1875/1875 [==============================] - 2s 723us/step - loss: 0.2675 - accuracy: 0.9212\n",
      "Epoch 2/3\n",
      "1875/1875 [==============================] - 1s 713us/step - loss: 0.1120 - accuracy: 0.9653\n",
      "Epoch 3/3\n",
      "1875/1875 [==============================] - 1s 723us/step - loss: 0.0764 - accuracy: 0.9761\n",
      "313/313 [==============================] - 0s 426us/step - loss: 0.1054 - accuracy: 0.9653\n"
     ]
    },
    {
     "data": {
      "text/plain": [
       "[0.10537015646696091, 0.9653000235557556]"
      ]
     },
     "execution_count": 4,
     "metadata": {},
     "output_type": "execute_result"
    }
   ],
   "source": [
    "clf.fit(x=x_train, y=y_train, epochs=3)\n",
    "clf.evaluate(x_test, y_test)"
   ]
  },
  {
   "cell_type": "markdown",
   "metadata": {},
   "source": [
    "The following section is where I performed threhsolding based on a value to the features and get binary values instead. The general idea is to remove some granularity level and potential noise by binarizing pixels above a certain threshold value only. We will experiment with classifier trained on the same binarized training set and the one trained without binarization."
   ]
  },
  {
   "cell_type": "code",
   "execution_count": 10,
   "metadata": {},
   "outputs": [
    {
     "name": "stdout",
     "output_type": "stream",
     "text": [
      "iteration with thresh value = 0\n",
      "Epoch 1/3\n",
      "1875/1875 [==============================] - 2s 802us/step - loss: 0.2450 - accuracy: 0.9248\n",
      "Epoch 2/3\n",
      "1875/1875 [==============================] - 1s 711us/step - loss: 0.1112 - accuracy: 0.9648\n",
      "Epoch 3/3\n",
      "1875/1875 [==============================] - 1s 725us/step - loss: 0.0808 - accuracy: 0.9741\n",
      "Model Trained without thresholding\n",
      "313/313 [==============================] - 0s 451us/step - loss: 0.4546 - accuracy: 0.9360\n",
      "Model Trained with thresholding\n",
      "313/313 [==============================] - 0s 438us/step - loss: 0.0997 - accuracy: 0.9715\n",
      "iteration with thresh value = 0.25\n",
      "Epoch 1/3\n",
      "1875/1875 [==============================] - 2s 744us/step - loss: 0.2605 - accuracy: 0.9214\n",
      "Epoch 2/3\n",
      "1875/1875 [==============================] - 1s 719us/step - loss: 0.1052 - accuracy: 0.9668\n",
      "Epoch 3/3\n",
      "1875/1875 [==============================] - 1s 729us/step - loss: 0.0684 - accuracy: 0.9786\n",
      "Model Trained without thresholding\n",
      "313/313 [==============================] - 0s 424us/step - loss: 0.2750 - accuracy: 0.9471\n",
      "Model Trained with thresholding\n",
      "313/313 [==============================] - 0s 429us/step - loss: 0.1077 - accuracy: 0.9667\n",
      "iteration with thresh value = 0.4\n",
      "Epoch 1/3\n",
      "1875/1875 [==============================] - 1s 723us/step - loss: 0.5966 - accuracy: 0.8120\n",
      "Epoch 2/3\n",
      "1875/1875 [==============================] - 1s 729us/step - loss: 0.3713 - accuracy: 0.8787\n",
      "Epoch 3/3\n",
      "1875/1875 [==============================] - 1s 718us/step - loss: 0.2977 - accuracy: 0.9007\n",
      "Model Trained without thresholding\n",
      "313/313 [==============================] - 0s 438us/step - loss: 2.1162 - accuracy: 0.5155\n",
      "Model Trained with thresholding\n",
      "313/313 [==============================] - 0s 432us/step - loss: 0.4158 - accuracy: 0.8715\n",
      "iteration with thresh value = 0.5\n",
      "Epoch 1/3\n",
      "1875/1875 [==============================] - 2s 728us/step - loss: 0.9475 - accuracy: 0.6890\n",
      "Epoch 2/3\n",
      "1875/1875 [==============================] - 1s 725us/step - loss: 0.7237 - accuracy: 0.7557\n",
      "Epoch 3/3\n",
      "1875/1875 [==============================] - 1s 731us/step - loss: 0.6493 - accuracy: 0.7799\n",
      "Model Trained without thresholding\n",
      "313/313 [==============================] - 0s 437us/step - loss: 2.2687 - accuracy: 0.3243\n",
      "Model Trained with thresholding\n",
      "313/313 [==============================] - 0s 432us/step - loss: 0.7528 - accuracy: 0.7483\n",
      "iteration with thresh value = 0.6\n",
      "Epoch 1/3\n",
      "1875/1875 [==============================] - 2s 731us/step - loss: 1.2543 - accuracy: 0.5860\n",
      "Epoch 2/3\n",
      "1875/1875 [==============================] - 1s 717us/step - loss: 1.0633 - accuracy: 0.6399\n",
      "Epoch 3/3\n",
      "1875/1875 [==============================] - 1s 732us/step - loss: 1.0036 - accuracy: 0.6572\n",
      "Model Trained without thresholding\n",
      "313/313 [==============================] - 0s 434us/step - loss: 2.1418 - accuracy: 0.2541\n",
      "Model Trained with thresholding\n",
      "313/313 [==============================] - 0s 434us/step - loss: 1.0873 - accuracy: 0.6391\n",
      "iteration with thresh value = 0.75\n",
      "Epoch 1/3\n",
      "1875/1875 [==============================] - 1s 716us/step - loss: 1.7223 - accuracy: 0.4016\n",
      "Epoch 2/3\n",
      "1875/1875 [==============================] - 1s 732us/step - loss: 1.5885 - accuracy: 0.4387\n",
      "Epoch 3/3\n",
      "1875/1875 [==============================] - 1s 710us/step - loss: 1.5542 - accuracy: 0.4467\n",
      "Model Trained without thresholding\n",
      "313/313 [==============================] - 0s 431us/step - loss: 2.2010 - accuracy: 0.1848\n",
      "Model Trained with thresholding\n",
      "313/313 [==============================] - 0s 499us/step - loss: 1.6032 - accuracy: 0.4372\n"
     ]
    }
   ],
   "source": [
    "t_list = [0, 0.25, 0.4, 0.5, 0.6, 0.75]\n",
    "for thresh in t_list:\n",
    "    print(\"iteration with thresh value = \" + str(thresh))\n",
    "    clf2 = tf.keras.Sequential()\n",
    "    clf2.add(tf.keras.layers.Flatten())\n",
    "\n",
    "    clf2.add(tf.keras.layers.Dense(128, activation='relu'))\n",
    "    clf2.add(tf.keras.layers.Dense(128, activation='relu'))\n",
    "    clf2.add(tf.keras.layers.Dense(10, activation='sigmoid'))\n",
    "    clf2.compile(optimizer='adam',\n",
    "            loss='sparse_categorical_crossentropy',\n",
    "            metrics=['accuracy'])\n",
    "    x_test2 = []\n",
    "    for x in x_test:\n",
    "        xb = x>thresh\n",
    "        xb = list(xb.astype(int))\n",
    "        x_test2.append(xb)\n",
    "    x_test2 = np.array(x_test2)\n",
    "    x_train2 = []\n",
    "    for x in x_train:\n",
    "        xb = x>thresh\n",
    "        xb = list(xb.astype(int))\n",
    "        x_train2.append(xb)\n",
    "    x_train2 = np.array(x_train2)\n",
    "    clf2.fit(x=x_train2, y=y_train, epochs=3)\n",
    "    print(\"Model Trained without thresholding\")\n",
    "    clf.evaluate(x_test2, y_test)\n",
    "    print(\"Model Trained with thresholding\")\n",
    "    clf2.evaluate(x_test2, y_test)"
   ]
  }
 ],
 "metadata": {
  "kernelspec": {
   "display_name": "base",
   "language": "python",
   "name": "python3"
  },
  "language_info": {
   "codemirror_mode": {
    "name": "ipython",
    "version": 3
   },
   "file_extension": ".py",
   "mimetype": "text/x-python",
   "name": "python",
   "nbconvert_exporter": "python",
   "pygments_lexer": "ipython3",
   "version": "3.11.5"
  }
 },
 "nbformat": 4,
 "nbformat_minor": 2
}
